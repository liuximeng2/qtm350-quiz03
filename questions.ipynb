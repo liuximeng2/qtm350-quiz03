{
 "cells": [
  {
   "cell_type": "code",
   "execution_count": 1,
   "metadata": {},
   "outputs": [
    {
     "name": "stdout",
     "output_type": "stream",
     "text": [
      "Emory ID: 12345678\n"
     ]
    }
   ],
   "source": [
    "# Print your Emory ID here\n",
    "print(\"Emory ID: 12345678\")"
   ]
  },
  {
   "cell_type": "code",
   "execution_count": 4,
   "metadata": {},
   "outputs": [],
   "source": [
    "# Import the necessary libraries and load the data\n",
    "import pandas as pd"
   ]
  },
  {
   "cell_type": "markdown",
   "metadata": {},
   "source": [
    "1. An online password attack is when someone tries to hack your account by simply trying a very large number of username/password combinations to access your account. For each `password` in our dataset, the `value` column shows the amount of time it is estimated to take an “online password attack” to hack your account. The column `time_unit` shows the units of that time value (e.g., hours, days, years, etc.). It would be much nicer if our values were of the same units so we can more easily compare the “online password guessing time” for each password. So your first task is to convert all of the values to units of hours (assume the conversion units provided below, e.g., 1 day is 24 hours, 1 week is 168 hours, etc)."
   ]
  },
  {
   "cell_type": "code",
   "execution_count": 12,
   "metadata": {},
   "outputs": [
    {
     "data": {
      "text/html": [
       "<div>\n",
       "<style scoped>\n",
       "    .dataframe tbody tr th:only-of-type {\n",
       "        vertical-align: middle;\n",
       "    }\n",
       "\n",
       "    .dataframe tbody tr th {\n",
       "        vertical-align: top;\n",
       "    }\n",
       "\n",
       "    .dataframe thead th {\n",
       "        text-align: right;\n",
       "    }\n",
       "</style>\n",
       "<table border=\"1\" class=\"dataframe\">\n",
       "  <thead>\n",
       "    <tr style=\"text-align: right;\">\n",
       "      <th></th>\n",
       "      <th>rank</th>\n",
       "      <th>password</th>\n",
       "      <th>category</th>\n",
       "      <th>value</th>\n",
       "      <th>time_unit</th>\n",
       "      <th>offline_crack_sec</th>\n",
       "      <th>rank_alt</th>\n",
       "      <th>strength</th>\n",
       "      <th>font_size</th>\n",
       "      <th>time</th>\n",
       "    </tr>\n",
       "  </thead>\n",
       "  <tbody>\n",
       "    <tr>\n",
       "      <th>0</th>\n",
       "      <td>1.0</td>\n",
       "      <td>password</td>\n",
       "      <td>password-related</td>\n",
       "      <td>6.91</td>\n",
       "      <td>years</td>\n",
       "      <td>2.170000e+00</td>\n",
       "      <td>1.0</td>\n",
       "      <td>8.0</td>\n",
       "      <td>11.0</td>\n",
       "      <td>60531.600000</td>\n",
       "    </tr>\n",
       "    <tr>\n",
       "      <th>1</th>\n",
       "      <td>2.0</td>\n",
       "      <td>123456</td>\n",
       "      <td>simple-alphanumeric</td>\n",
       "      <td>18.52</td>\n",
       "      <td>minutes</td>\n",
       "      <td>1.110000e-05</td>\n",
       "      <td>2.0</td>\n",
       "      <td>4.0</td>\n",
       "      <td>8.0</td>\n",
       "      <td>0.308667</td>\n",
       "    </tr>\n",
       "    <tr>\n",
       "      <th>2</th>\n",
       "      <td>3.0</td>\n",
       "      <td>12345678</td>\n",
       "      <td>simple-alphanumeric</td>\n",
       "      <td>1.29</td>\n",
       "      <td>days</td>\n",
       "      <td>1.110000e-03</td>\n",
       "      <td>3.0</td>\n",
       "      <td>4.0</td>\n",
       "      <td>8.0</td>\n",
       "      <td>30.960000</td>\n",
       "    </tr>\n",
       "    <tr>\n",
       "      <th>3</th>\n",
       "      <td>4.0</td>\n",
       "      <td>1234</td>\n",
       "      <td>simple-alphanumeric</td>\n",
       "      <td>11.11</td>\n",
       "      <td>seconds</td>\n",
       "      <td>1.110000e-07</td>\n",
       "      <td>4.0</td>\n",
       "      <td>4.0</td>\n",
       "      <td>8.0</td>\n",
       "      <td>0.003086</td>\n",
       "    </tr>\n",
       "    <tr>\n",
       "      <th>4</th>\n",
       "      <td>5.0</td>\n",
       "      <td>qwerty</td>\n",
       "      <td>simple-alphanumeric</td>\n",
       "      <td>3.72</td>\n",
       "      <td>days</td>\n",
       "      <td>3.210000e-03</td>\n",
       "      <td>5.0</td>\n",
       "      <td>8.0</td>\n",
       "      <td>11.0</td>\n",
       "      <td>89.280000</td>\n",
       "    </tr>\n",
       "  </tbody>\n",
       "</table>\n",
       "</div>"
      ],
      "text/plain": [
       "   rank  password             category  value time_unit  offline_crack_sec  \\\n",
       "0   1.0  password     password-related   6.91     years       2.170000e+00   \n",
       "1   2.0    123456  simple-alphanumeric  18.52   minutes       1.110000e-05   \n",
       "2   3.0  12345678  simple-alphanumeric   1.29      days       1.110000e-03   \n",
       "3   4.0      1234  simple-alphanumeric  11.11   seconds       1.110000e-07   \n",
       "4   5.0    qwerty  simple-alphanumeric   3.72      days       3.210000e-03   \n",
       "\n",
       "   rank_alt  strength  font_size          time  \n",
       "0       1.0       8.0       11.0  60531.600000  \n",
       "1       2.0       4.0        8.0      0.308667  \n",
       "2       3.0       4.0        8.0     30.960000  \n",
       "3       4.0       4.0        8.0      0.003086  \n",
       "4       5.0       8.0       11.0     89.280000  "
      ]
     },
     "execution_count": 12,
     "metadata": {},
     "output_type": "execute_result"
    }
   ],
   "source": [
    "# Your answer here \n",
    "data = pd.read_csv(\"passwords.csv\")\n",
    "units = {\n",
    "    \"seconds\": 1 / 3600,\n",
    "    \"minutes\": 1 / 60,\n",
    "    \"hours\": 1,\n",
    "    \"days\": 24,\n",
    "    \"weeks\": 168,\n",
    "    \"months\": 720,\n",
    "    \"years\": 8760,\n",
    "}\n",
    "\n",
    "data[\"time\"] = data.apply(\n",
    "    lambda row: row[\"value\"] * units.get(row[\"time_unit\"], None) if pd.notnull(row[\"value\"]) and pd.notnull(row[\"time_unit\"]) else None,\n",
    "    axis=1\n",
    ")\n",
    "data.head()"
   ]
  },
  {
   "cell_type": "markdown",
   "metadata": {},
   "source": [
    "2. Are there any missing values in the dataset? If so, how many? After you have counted the, please drop them from the dataset."
   ]
  },
  {
   "cell_type": "code",
   "execution_count": 14,
   "metadata": {},
   "outputs": [
    {
     "name": "stdout",
     "output_type": "stream",
     "text": [
      "Missing values in each column: rank                 7\n",
      "password             7\n",
      "category             7\n",
      "value                7\n",
      "time_unit            7\n",
      "offline_crack_sec    7\n",
      "rank_alt             7\n",
      "strength             7\n",
      "font_size            7\n",
      "time                 7\n",
      "dtype: int64\n"
     ]
    }
   ],
   "source": [
    "# Your answer here\n",
    "count = data.isna().sum()\n",
    "print(f\"Missing values in each column: {count}\")\n",
    "data = data.dropna()"
   ]
  },
  {
   "cell_type": "markdown",
   "metadata": {},
   "source": [
    "3. Which password category has the highest average strength?\n"
   ]
  },
  {
   "cell_type": "code",
   "execution_count": 15,
   "metadata": {},
   "outputs": [
    {
     "name": "stdout",
     "output_type": "stream",
     "text": [
      "The password category with the highest strength is 'nerdy-pop' with a strength of 14.0.\n"
     ]
    }
   ],
   "source": [
    "# Your answer here\n",
    "strength_by_category = data.groupby(\"category\")[\"strength\"].mean()\n",
    "\n",
    "strongest_category = strength_by_category.idxmax()\n",
    "highest_strength = strength_by_category.max()\n",
    "\n",
    "print(f\"The password category with the highest strength is '{strongest_category}' with a strength of {highest_strength}.\")\n"
   ]
  },
  {
   "cell_type": "markdown",
   "metadata": {},
   "source": [
    "4. What is the rank of the password 'qwerty'?"
   ]
  },
  {
   "cell_type": "code",
   "execution_count": 17,
   "metadata": {},
   "outputs": [
    {
     "name": "stdout",
     "output_type": "stream",
     "text": [
      "The rank of the password 'qwerty' is 5.0.\n"
     ]
    }
   ],
   "source": [
    "# Your answer here\n",
    "rank = data[data[\"password\"] == \"qwerty\"][\"rank\"].values[0]\n",
    "print(f\"The rank of the password 'qwerty' is {rank}.\")"
   ]
  },
  {
   "cell_type": "markdown",
   "metadata": {},
   "source": [
    "5. How many passwords have more than 8 characters?"
   ]
  },
  {
   "cell_type": "code",
   "execution_count": 43,
   "metadata": {},
   "outputs": [
    {
     "name": "stdout",
     "output_type": "stream",
     "text": [
      "The number of passwords with length greater than 8 is 1.\n"
     ]
    }
   ],
   "source": [
    "# Your answer here\n",
    "count = data[data[\"password\"].str.len() > 8].shape[0]\n",
    "print(f\"The number of passwords with length greater than 8 is {count}.\")"
   ]
  },
  {
   "cell_type": "markdown",
   "metadata": {},
   "source": [
    "6. How many passwords do not contain a number?"
   ]
  },
  {
   "cell_type": "code",
   "execution_count": 29,
   "metadata": {},
   "outputs": [
    {
     "name": "stdout",
     "output_type": "stream",
     "text": [
      "The number of passwords without numbers is 446.\n"
     ]
    }
   ],
   "source": [
    "# Your answer here\n",
    "no_number_count = data[~data[\"password\"].str.contains(r'\\d', na=False)].shape[0]\n",
    "print(f\"The number of passwords without numbers is {no_number_count}.\")"
   ]
  },
  {
   "cell_type": "markdown",
   "metadata": {},
   "source": [
    "7. What is the average time in hours needed to crack these passwords that begin with `123`? How does this compare to the average of all passwords in the dataset?"
   ]
  },
  {
   "cell_type": "code",
   "execution_count": 32,
   "metadata": {},
   "outputs": [
    {
     "name": "stdout",
     "output_type": "stream",
     "text": [
      "The average time for passwords starting with '123' is 107.30332438271606 hours, while the average time for all passwords is 13917.565247227776 hours.\n"
     ]
    }
   ],
   "source": [
    "# Your answer here\n",
    "subset = data[data[\"password\"].str.startswith(\"123\")]\n",
    "subset_average = subset[\"time\"].mean()\n",
    "set_average = data[\"time\"].mean()\n",
    "print(f\"The average time for passwords starting with '123' is {subset_average} hours, while the average time for all passwords is {set_average} hours.\")"
   ]
  },
  {
   "cell_type": "markdown",
   "metadata": {},
   "source": [
    "8. What percentage of passwords are of the `simple-alphanumeric` category?"
   ]
  },
  {
   "cell_type": "code",
   "execution_count": 33,
   "metadata": {},
   "outputs": [
    {
     "name": "stdout",
     "output_type": "stream",
     "text": [
      "The proportion of passwords in the 'simple-alphanumeric' category is 0.122.\n"
     ]
    }
   ],
   "source": [
    "# Your answer here\n",
    "subset_count = data[data[\"category\"] == \"simple-alphanumeric\"].shape[0]\n",
    "total_count = data.shape[0]\n",
    "print(f\"The proportion of passwords in the 'simple-alphanumeric' category is {subset_count / total_count}.\")"
   ]
  },
  {
   "cell_type": "markdown",
   "metadata": {},
   "source": [
    "9. How many passwords have a strength rating below 5? What is their percentage?"
   ]
  },
  {
   "cell_type": "code",
   "execution_count": 35,
   "metadata": {},
   "outputs": [
    {
     "name": "stdout",
     "output_type": "stream",
     "text": [
      "There are 73 passwords with strength less than 5.\n",
      "The proportion of passwords with strength less than 5 is 0.146.\n"
     ]
    }
   ],
   "source": [
    "# Your answer here\n",
    "subset_count = data[data[\"strength\"] < 5].shape[0]\n",
    "total_count = data.shape[0]\n",
    "print(f\"There are {subset_count} passwords with strength less than 5.\")\n",
    "print(f\"The proportion is {subset_count / total_count}.\")"
   ]
  },
  {
   "cell_type": "markdown",
   "metadata": {},
   "source": [
    "10. What is the most common password in the dataset?"
   ]
  },
  {
   "cell_type": "code",
   "execution_count": 36,
   "metadata": {},
   "outputs": [
    {
     "name": "stdout",
     "output_type": "stream",
     "text": [
      "The most common password is 'password'.\n"
     ]
    }
   ],
   "source": [
    "# Your answer here\n",
    "most_common = data[\"password\"].value_counts().idxmax()\n",
    "print(f\"The most common password is '{most_common}'.\")"
   ]
  },
  {
   "cell_type": "markdown",
   "metadata": {},
   "source": [
    "11. How many unique passwords are there in each category, and what is their average length?"
   ]
  },
  {
   "cell_type": "code",
   "execution_count": 39,
   "metadata": {},
   "outputs": [
    {
     "name": "stdout",
     "output_type": "stream",
     "text": [
      "Unique passwords in each category: category\n",
      "animal                  29\n",
      "cool-macho              79\n",
      "fluffy                  44\n",
      "food                    11\n",
      "name                   183\n",
      "nerdy-pop               30\n",
      "password-related        15\n",
      "rebellious-rude         11\n",
      "simple-alphanumeric     61\n",
      "sport                   37\n",
      "Name: password, dtype: int64\n",
      "Average length of passwords in each category: category\n",
      "animal                 6.206897\n",
      "cool-macho             6.253165\n",
      "fluffy                 5.795455\n",
      "food                   6.090909\n",
      "name                   6.218579\n",
      "nerdy-pop              6.633333\n",
      "password-related       6.333333\n",
      "rebellious-rude        6.363636\n",
      "simple-alphanumeric    5.934426\n",
      "sport                  6.513514\n",
      "Name: password, dtype: float64\n"
     ]
    }
   ],
   "source": [
    "# Your answer here\n",
    "unique = data.groupby(\"category\")[\"password\"].nunique()\n",
    "average_length = data.groupby(\"category\")[\"password\"].apply(lambda x: x.str.len().mean())\n",
    "print(f\"Unique passwords in each category: {unique}\")\n",
    "print(f\"Average length of passwords in each category: {average_length}\")"
   ]
  },
  {
   "cell_type": "markdown",
   "metadata": {},
   "source": [
    "12. What is the median rank and strength for passwords of each length?"
   ]
  },
  {
   "cell_type": "code",
   "execution_count": 44,
   "metadata": {},
   "outputs": [
    {
     "name": "stdout",
     "output_type": "stream",
     "text": [
      "Median rank for passwords of each length: length\n",
      "4    326.0\n",
      "5    343.0\n",
      "6    231.0\n",
      "7    222.0\n",
      "8    286.0\n",
      "9     49.0\n",
      "Name: rank, dtype: float64\n",
      "Median strength for passwords of each length: length\n",
      "4    6.0\n",
      "5    7.0\n",
      "6    7.0\n",
      "7    8.0\n",
      "8    8.0\n",
      "9    4.0\n",
      "Name: strength, dtype: float64\n"
     ]
    }
   ],
   "source": [
    "# Your answer here\n",
    "# 12. What is the median rank and strength for passwords of each length?\n",
    "data[\"length\"] = data[\"password\"].str.len()\n",
    "median_rank = data.groupby(\"length\")[\"rank\"].median()\n",
    "median_strength = data.groupby(\"length\")[\"strength\"].median()\n",
    "print(f\"Median rank for passwords of each length: {median_rank}\")\n",
    "print(f\"Median strength for passwords of each length: {median_strength}\")"
   ]
  },
  {
   "cell_type": "markdown",
   "metadata": {},
   "source": [
    "13. Add a column `strength_label` with values `weak` if strength is below 5, else `strong`. Use a lambda function."
   ]
  },
  {
   "cell_type": "code",
   "execution_count": 45,
   "metadata": {},
   "outputs": [],
   "source": [
    "# Your answer here\n",
    "data[\"strength_label\"] = data[\"strength\"].apply(lambda x: \"weak\" if x < 5 else \"strong\")"
   ]
  },
  {
   "cell_type": "markdown",
   "metadata": {},
   "source": [
    "14. Create a column `high_value` with a value of `True` if value is in the top 10% of values in the dataset."
   ]
  },
  {
   "cell_type": "code",
   "execution_count": 49,
   "metadata": {},
   "outputs": [],
   "source": [
    "# Your answer here\n",
    "data[\"high_value\"] = data[\"value\"] > data[\"value\"].quantile(0.9)"
   ]
  },
  {
   "cell_type": "markdown",
   "metadata": {},
   "source": [
    "15. Join all passwords within each `category` into a single string."
   ]
  },
  {
   "cell_type": "code",
   "execution_count": 51,
   "metadata": {},
   "outputs": [
    {
     "name": "stdout",
     "output_type": "stream",
     "text": [
      "category\n",
      "animal                 dragon monkey bigdog falcon phoenix tigers chi...\n",
      "cool-macho             mustang shadow master harley hunter ranger bus...\n",
      "fluffy                 love sunshine silver orange ginger summer prin...\n",
      "food                   pepper cheese coffee banana butter muffin hotd...\n",
      "name                   michael jennifer jordan superman thomas tigger...\n",
      "nerdy-pop              starwars computer merlin matrix snoopy boomer ...\n",
      "password-related       password letmein test pass access gateway plea...\n",
      "rebellious-rude        biteme freedom secret whatever badboy sexsex b...\n",
      "simple-alphanumeric    123456 12345678 1234 qwerty 12345 696969 abc12...\n",
      "sport                  baseball football soccer hockey dallas yankees...\n",
      "Name: password, dtype: object\n"
     ]
    }
   ],
   "source": [
    "# Your answer here\n",
    "joined = data.groupby(\"category\")[\"password\"].apply(lambda x: \" \".join(x))\n",
    "print(joined)"
   ]
  },
  {
   "cell_type": "markdown",
   "metadata": {},
   "source": [
    "**Bonus question 01**: What is the correlation between password length and strength? Create a scatter plot with regression line."
   ]
  },
  {
   "cell_type": "code",
   "execution_count": 56,
   "metadata": {},
   "outputs": [
    {
     "data": {
      "image/png": "[encoded data removed]",
      "text/plain": [
       "<Figure size 640x480 with 1 Axes>"
      ]
     },
     "metadata": {},
     "output_type": "display_data"
    }
   ],
   "source": [
    "# Your answer here\n",
    "import matplotlib.pyplot as plt\n",
    "from scipy.stats import linregress\n",
    "\n",
    "plt.scatter(data[\"length\"], data[\"strength\"])\n",
    "slope, intercept, _, _, _ = linregress(data[\"length\"], data[\"strength\"])\n",
    "regression_line = slope * data[\"length\"] + intercept\n",
    "plt.plot(data[\"length\"], regression_line, color=\"red\", label=\"Regression Line\")\n",
    "\n",
    "plt.xlabel(\"Length\")\n",
    "plt.ylabel(\"Strength\")\n",
    "plt.legend()\n",
    "plt.show()"
   ]
  },
  {
   "cell_type": "markdown",
   "metadata": {},
   "source": [
    "**Bonus question 02**: Find all passwords with palindromes."
   ]
  },
  {
   "cell_type": "code",
   "execution_count": 62,
   "metadata": {},
   "outputs": [
    {
     "name": "stdout",
     "output_type": "stream",
     "text": [
      "The palindromic passwords are 18       111111\n",
      "59       666666\n",
      "76         1111\n",
      "105      aaaaaa\n",
      "144      xxxxxx\n",
      "190      hannah\n",
      "192    11111111\n",
      "206     7777777\n",
      "277      222222\n",
      "285    xxxxxxxx\n",
      "286      777777\n",
      "291    88888888\n",
      "314        2112\n",
      "324        7777\n",
      "352      zzzzzz\n",
      "364      555555\n",
      "371        2222\n",
      "373        4444\n",
      "409       11111\n",
      "413      123321\n",
      "420      999999\n",
      "458      333333\n",
      "472        xxxx\n",
      "489      888888\n",
      "Name: password, dtype: object.\n",
      "The number of palindromic passwords is 24.\n"
     ]
    }
   ],
   "source": [
    "# Your answer here\n",
    "def palindromes(password):\n",
    "    return password == password[::-1]\n",
    "\n",
    "data[\"palindrome\"] = data[\"password\"].apply(palindromes)\n",
    "palindrome_count = data[\"palindrome\"].sum()\n",
    "print(f\"The palindromic passwords are {data[data['palindrome']]['password']}.\")\n",
    "print(f\"The number of palindromic passwords is {palindrome_count}.\")"
   ]
  },
  {
   "cell_type": "code",
   "execution_count": null,
   "metadata": {},
   "outputs": [],
   "source": []
  }
 ],
 "metadata": {
  "kernelspec": {
   "display_name": "base",
   "language": "python",
   "name": "python3"
  },
  "language_info": {
   "codemirror_mode": {
    "name": "ipython",
    "version": 3
   },
   "file_extension": ".py",
   "mimetype": "text/x-python",
   "name": "python",
   "nbconvert_exporter": "python",
   "pygments_lexer": "ipython3",
   "version": "3.12.5"
  }
 },
 "nbformat": 4,
 "nbformat_minor": 2
}
